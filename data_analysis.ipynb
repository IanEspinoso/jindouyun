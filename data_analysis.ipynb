{
 "cells": [
  {
   "cell_type": "markdown",
   "id": "c07c1940",
   "metadata": {
    "heading_collapsed": true
   },
   "source": []
  },
  {
   "cell_type": "markdown",
   "id": "e0d139b4",
   "metadata": {
    "hidden": true
   },
   "source": []
  },
  {
   "cell_type": "markdown",
   "id": "354c1ab6",
   "metadata": {},
   "source": [
    "#### Importing Modules"
   ]
  },
  {
   "cell_type": "code",
   "execution_count": 2,
   "id": "5672e02f",
   "metadata": {
    "ExecuteTime": {
     "end_time": "2023-11-27T12:46:43.873038Z",
     "start_time": "2023-11-27T12:46:42.730662Z"
    }
   },
   "outputs": [],
   "source": [
    "import pandas as pd"
   ]
  },
  {
   "cell_type": "markdown",
   "id": "ecdf13ba",
   "metadata": {},
   "source": [
    "#### Load Dataset"
   ]
  },
  {
   "cell_type": "code",
   "execution_count": 3,
   "id": "70d5c594",
   "metadata": {
    "ExecuteTime": {
     "end_time": "2023-11-27T12:46:43.887756Z",
     "start_time": "2023-11-27T12:46:43.874514Z"
    }
   },
   "outputs": [],
   "source": [
    "# Read data from CSV files into Pandas DataFrames\n",
    "df = pd.read_csv(\"./data/cloudwalk_transactional-sample.csv\")"
   ]
  },
  {
   "cell_type": "markdown",
   "id": "6c794257",
   "metadata": {},
   "source": [
    "#### Data Sanity Check"
   ]
  },
  {
   "cell_type": "code",
   "execution_count": 4,
   "id": "51360d73",
   "metadata": {},
   "outputs": [
    {
     "name": "stdout",
     "output_type": "stream",
     "text": [
      "(3199, 8) \n",
      "\n",
      "   transaction_id  merchant_id  user_id       card_number  \\\n",
      "0        21320398        29744    97051  434505******9116   \n",
      "1        21320399        92895     2708  444456******4210   \n",
      "2        21320400        47759    14777  425850******7024   \n",
      "3        21320401        68657    69758  464296******3991   \n",
      "4        21320402        54075    64367  650487******6116   \n",
      "\n",
      "             transaction_date  transaction_amount  device_id  has_cbk  \n",
      "0  2019-12-01T23:16:32.812632              374.56   285475.0    False  \n",
      "1  2019-12-01T22:45:37.873639              734.87   497105.0     True  \n",
      "2  2019-12-01T22:22:43.021495              760.36        NaN    False  \n",
      "3  2019-12-01T21:59:19.797129             2556.13        NaN     True  \n",
      "4  2019-12-01T21:30:53.347051               55.36   860232.0    False   \n",
      "\n",
      "<class 'pandas.core.frame.DataFrame'>\n",
      "RangeIndex: 3199 entries, 0 to 3198\n",
      "Data columns (total 8 columns):\n",
      " #   Column              Non-Null Count  Dtype  \n",
      "---  ------              --------------  -----  \n",
      " 0   transaction_id      3199 non-null   int64  \n",
      " 1   merchant_id         3199 non-null   int64  \n",
      " 2   user_id             3199 non-null   int64  \n",
      " 3   card_number         3199 non-null   object \n",
      " 4   transaction_date    3199 non-null   object \n",
      " 5   transaction_amount  3199 non-null   float64\n",
      " 6   device_id           2369 non-null   float64\n",
      " 7   has_cbk             3199 non-null   bool   \n",
      "dtypes: bool(1), float64(2), int64(3), object(2)\n",
      "memory usage: 178.2+ KB\n",
      "None\n"
     ]
    }
   ],
   "source": [
    "# Display information about the structure and data types of the checkout dataframes\n",
    "print(df.shape, '\\n')     # rows, cols\n",
    "print(df.head(), '\\n')    # quick look\n",
    "print(df.info())    # dtypes, null counts"
   ]
  },
  {
   "cell_type": "markdown",
   "id": "ac11ff5b",
   "metadata": {},
   "source": [
    "That device id column has 830 number of missing values, and 2369 non-null, meaning around 26% null. <br>\n",
    "We'll later decide whether to impute, drop, or treat as a suspicious signal."
   ]
  },
  {
   "cell_type": "code",
   "execution_count": null,
   "id": "8a855f4f",
   "metadata": {
    "ExecuteTime": {
     "end_time": "2023-11-27T12:46:43.930463Z",
     "start_time": "2023-11-27T12:46:43.921309Z"
    }
   },
   "outputs": [],
   "source": [
    "# Verify if all transaction amounts are above 0\n",
    "# Ensure that transaction id is unique\n",
    "# Transaction dates should be parsed by df['transaction_date'] = pd.to_datetime(df['transaction_date'], errors='coerce')\n",
    "# Check in min/max dates if we can find unliquely data, like 'future' or 'ancient' transactions, or duplicated datetimes with same ids\n",
    "# Check if all card numbers follow the same format\n",
    "\n",
    "\n",
    "# Find the likely transaction time of users and devices, and search for high number of transactions in a short period\n",
    "# Multiple transactions in the same second by same user_id or device_id\n",
    "\n",
    "# Find the basic ratio of chargeback prevalence with df['has_cbk'].mean()\n",
    "\n",
    "# Apply Luhn check to card numbers to filter bad/stub card numbers\n",
    "\n",
    "# Check if missing device ids correlates with higher chargeback rates\n",
    "# Check if some user id to device id combos appear too often, indicating possible fraud rings\n",
    "\n",
    "# Plot a quick histogram to find anomalous transactions with df['transaction_amount'].plot(kind='hist', bins=50) and check for extreme outliers on the 99th percentile\n",
    "\n",
    "# Create a profiling report\n",
    "\n",
    "\"\"\"muitos chargebacks pequenos do mesmo id\n",
    "épocas do ano\n",
    "transaction_id:  histogramas empilhados de horários e valores, com a parcela dos chargebacks\n",
    "merchant_id: histogramas empilhados de horários e valores, com a parcela dos chargebacks\n",
    "user_id: histogramas empilhados de horários e valores, com a parcela dos chargebacks\n",
    "device_id: histogramas empilhados de horários e valores, com a parcela dos chargebacks\n",
    "card_number: histogramas empilhados de horários e valores, com a parcela dos chargebacks\n",
    "transaction_date: boxplot sobre os diferentes ids\n",
    "transaction_amount: boxplot sobre os diferentes ids\n",
    "card_number: vários por usuário\n",
    "device_id: muitos por merchant\n",
    "valores muito fora da média de transação de um usuário\n",
    "especialmente se forem em horários bizarros tipo de madrugada\n",
    "valores grandes em merchant_ids que não tem quase nenhuma transação \n",
    "valores grandes em um device_id nunca visto antes\n",
    "Várias tentativas falhas\n",
    "Cartão emitido recentemente\n",
    "Cartão online tem mais chances do que físico\n",
    "Valores elevados\n",
    "Distâncias anormais\n",
    "Pessoa jurídica tem muita fraude, principalmente por gerentes de agência\n",
    "\"\"\"\n",
    "# Convert the transaction date column from string format to a proper time format\n",
    "\n",
    "# Display descriptive statistics for the dataframe print(df.describe(), '\\n')\n",
    "\n",
    "# Display the first 10 rows of the dataframe df.head(5)\n"
   ]
  },
  {
   "cell_type": "markdown",
   "id": "f1133647",
   "metadata": {},
   "source": [
    "Plotting the number and change of transactions, chargebacks and ammounts traded per hour.\n",
    "\n",
    "The goal is to look for spikes or dips, comparing many timeframes, like day, week or year."
   ]
  }
 ],
 "metadata": {
  "kernelspec": {
   "display_name": "Python 3",
   "language": "python",
   "name": "python3"
  },
  "language_info": {
   "codemirror_mode": {
    "name": "ipython",
    "version": 3
   },
   "file_extension": ".py",
   "mimetype": "text/x-python",
   "name": "python",
   "nbconvert_exporter": "python",
   "pygments_lexer": "ipython3",
   "version": "3.13.1"
  }
 },
 "nbformat": 4,
 "nbformat_minor": 5
}
